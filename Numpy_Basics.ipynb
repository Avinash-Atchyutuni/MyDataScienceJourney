{
 "cells": [
  {
   "cell_type": "code",
   "execution_count": 1,
   "id": "8e0ab752-94da-44c2-9afc-9bc296bb1cbb",
   "metadata": {
    "tags": []
   },
   "outputs": [],
   "source": [
    "import numpy as np"
   ]
  },
  {
   "cell_type": "markdown",
   "id": "d1b4613c-362e-4312-85db-3812fbc0a069",
   "metadata": {},
   "source": [
    "# Why Numpy?\n",
    "\n",
    "* it is a primary package for scientific computing\n",
    "* it supports multi-dimensional arrays \n",
    "* built in array operations\n",
    "* Simplified but powerful array interactions\n",
    "\n",
    "* Numpy arrays are fast \n",
    "* it can hold only one data type \n",
    "\n",
    "\n",
    "Pandas are built on top of numpy "
   ]
  },
  {
   "cell_type": "code",
   "execution_count": 21,
   "id": "f5163d58-b0f8-4054-b75f-d5b03105ed94",
   "metadata": {
    "tags": []
   },
   "outputs": [
    {
     "name": "stdout",
     "output_type": "stream",
     "text": [
      "[  3  33 333]\n",
      "<class 'numpy.ndarray'>\n",
      "(3,)\n"
     ]
    }
   ],
   "source": [
    "# working with ndarrays \n",
    "an_array = np.array([3,33,333]) # rank 1 array\n",
    "print(an_array)\n",
    "print(type(an_array))\n",
    "print(an_array.shape) # printing shape of nd array"
   ]
  },
  {
   "cell_type": "markdown",
   "id": "3506bb02-fa52-4df3-b96e-cb0cca9ff1ad",
   "metadata": {},
   "source": [
    "## ndarrays are mutable"
   ]
  },
  {
   "cell_type": "code",
   "execution_count": 7,
   "id": "cf470cbe-46e4-4be0-847e-f789b7ebd807",
   "metadata": {
    "tags": []
   },
   "outputs": [],
   "source": [
    "an_array[0]=20 # must be of the same type"
   ]
  },
  {
   "cell_type": "code",
   "execution_count": 9,
   "id": "631716c4-15f8-496d-b6ec-1a0660ab9d37",
   "metadata": {
    "tags": []
   },
   "outputs": [
    {
     "data": {
      "text/plain": [
       "array([[11, 12, 13],\n",
       "       [14, 15, 16]])"
      ]
     },
     "execution_count": 9,
     "metadata": {},
     "output_type": "execute_result"
    }
   ],
   "source": [
    "r2 = np.array([[11,12,13],[14,15,16]])\n",
    "r2"
   ]
  },
  {
   "cell_type": "code",
   "execution_count": 23,
   "id": "cdc140ed-6754-4fb9-9775-bbe93b4747a1",
   "metadata": {
    "tags": []
   },
   "outputs": [
    {
     "data": {
      "text/plain": [
       "array([[0.84035697, 0.68318669],\n",
       "       [0.95497046, 0.89357235]])"
      ]
     },
     "execution_count": 23,
     "metadata": {},
     "output_type": "execute_result"
    }
   ],
   "source": [
    "# creating prefilling arrays\n",
    "ex1 = np.zeros((2,2))\n",
    "ex2 = np.full((2,2),9) # creating a 2*2 array filled with 9\n",
    "ex3 = np.ones((2,2))\n",
    "ex4 = np.eye(2,2) # here only the diagonals are one \n",
    "ex5 = np.random.random((2,2))\n",
    "ex5"
   ]
  },
  {
   "cell_type": "code",
   "execution_count": 27,
   "id": "0a865ec7-3494-472a-bb0b-e0097c477c77",
   "metadata": {
    "tags": []
   },
   "outputs": [
    {
     "data": {
      "text/plain": [
       "array([[12],\n",
       "       [15]])"
      ]
     },
     "execution_count": 27,
     "metadata": {},
     "output_type": "execute_result"
    }
   ],
   "source": [
    "# when slicing an ndarray we create a second reference to the same underlying data\n",
    "a_slice  = r2[0:,1:2]\n",
    "a_slice # when you modify the slice you are actually modifying the actual r2 array"
   ]
  },
  {
   "cell_type": "markdown",
   "id": "d2ea6955-1697-4a21-8224-e08cc63417d1",
   "metadata": {},
   "source": [
    "## Since slice elements have the same memory address as the original array. we must create another copy to prevent this"
   ]
  },
  {
   "cell_type": "code",
   "execution_count": 28,
   "id": "a468e7e8-c674-457c-aa02-c4545a6f4853",
   "metadata": {
    "tags": []
   },
   "outputs": [
    {
     "data": {
      "text/plain": [
       "array([[12],\n",
       "       [15]])"
      ]
     },
     "execution_count": 28,
     "metadata": {},
     "output_type": "execute_result"
    }
   ],
   "source": [
    "a_slice  = np.array(r2[0:,1:2])\n",
    "a_slice"
   ]
  },
  {
   "cell_type": "code",
   "execution_count": 31,
   "id": "c5db2d4e-b547-4cec-a521-0f59e8e61fa8",
   "metadata": {
    "tags": []
   },
   "outputs": [
    {
     "name": "stdout",
     "output_type": "stream",
     "text": [
      "[[14 15 16]]\n"
     ]
    }
   ],
   "source": [
    "#combinations of slices and indexing \n",
    "a_slice2 = r2[1,:] # this creates a rank1 array\n",
    "a_slice3 = r2[1:2,:] # this creates a rank2 array\n",
    "print(a_slice3)\n"
   ]
  },
  {
   "cell_type": "code",
   "execution_count": 32,
   "id": "1faead65-683f-4310-bd4c-f26ede6c77bf",
   "metadata": {
    "tags": []
   },
   "outputs": [
    {
     "data": {
      "text/plain": [
       "(2, 3)"
      ]
     },
     "execution_count": 32,
     "metadata": {},
     "output_type": "execute_result"
    }
   ],
   "source": [
    "r2.shape"
   ]
  },
  {
   "cell_type": "code",
   "execution_count": null,
   "id": "de68a38f-7c9b-43ea-8405-910a454ce842",
   "metadata": {},
   "outputs": [],
   "source": []
  }
 ],
 "metadata": {
  "kernelspec": {
   "display_name": "Python 3 (ipykernel)",
   "language": "python",
   "name": "python3"
  },
  "language_info": {
   "codemirror_mode": {
    "name": "ipython",
    "version": 3
   },
   "file_extension": ".py",
   "mimetype": "text/x-python",
   "name": "python",
   "nbconvert_exporter": "python",
   "pygments_lexer": "ipython3",
   "version": "3.11.4"
  }
 },
 "nbformat": 4,
 "nbformat_minor": 5
}
