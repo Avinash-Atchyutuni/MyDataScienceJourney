{
 "cells": [
  {
   "cell_type": "code",
   "execution_count": 1,
   "id": "8e0ab752-94da-44c2-9afc-9bc296bb1cbb",
   "metadata": {
    "tags": []
   },
   "outputs": [],
   "source": [
    "import numpy as np"
   ]
  },
  {
   "cell_type": "markdown",
   "id": "d1b4613c-362e-4312-85db-3812fbc0a069",
   "metadata": {},
   "source": [
    "# Why Numpy?\n",
    "\n",
    "* it is a primary package for scientific computing\n",
    "* it supports multi-dimensional arrays \n",
    "* built in array operations\n",
    "* Simplified but powerful array interactions\n",
    "\n",
    "* Numpy arrays are fast \n",
    "* it can hold only one data type \n",
    "\n",
    "\n",
    "Pandas are built on top of numpy "
   ]
  },
  {
   "cell_type": "code",
   "execution_count": 21,
   "id": "f5163d58-b0f8-4054-b75f-d5b03105ed94",
   "metadata": {
    "tags": []
   },
   "outputs": [
    {
     "name": "stdout",
     "output_type": "stream",
     "text": [
      "[  3  33 333]\n",
      "<class 'numpy.ndarray'>\n",
      "(3,)\n"
     ]
    }
   ],
   "source": [
    "# working with ndarrays \n",
    "an_array = np.array([3,33,333]) # rank 1 array\n",
    "print(an_array)\n",
    "print(type(an_array))\n",
    "print(an_array.shape) # printing shape of nd array"
   ]
  },
  {
   "cell_type": "markdown",
   "id": "3506bb02-fa52-4df3-b96e-cb0cca9ff1ad",
   "metadata": {},
   "source": [
    "## ndarrays are mutable"
   ]
  },
  {
   "cell_type": "code",
   "execution_count": 7,
   "id": "cf470cbe-46e4-4be0-847e-f789b7ebd807",
   "metadata": {
    "tags": []
   },
   "outputs": [],
   "source": [
    "an_array[0]=20 # must be of the same type"
   ]
  },
  {
   "cell_type": "code",
   "execution_count": 9,
   "id": "631716c4-15f8-496d-b6ec-1a0660ab9d37",
   "metadata": {
    "tags": []
   },
   "outputs": [
    {
     "data": {
      "text/plain": [
       "array([[11, 12, 13],\n",
       "       [14, 15, 16]])"
      ]
     },
     "execution_count": 9,
     "metadata": {},
     "output_type": "execute_result"
    }
   ],
   "source": [
    "r2 = np.array([[11,12,13],[14,15,16]])\n",
    "r2"
   ]
  },
  {
   "cell_type": "code",
   "execution_count": 23,
   "id": "cdc140ed-6754-4fb9-9775-bbe93b4747a1",
   "metadata": {
    "tags": []
   },
   "outputs": [
    {
     "data": {
      "text/plain": [
       "array([[0.84035697, 0.68318669],\n",
       "       [0.95497046, 0.89357235]])"
      ]
     },
     "execution_count": 23,
     "metadata": {},
     "output_type": "execute_result"
    }
   ],
   "source": [
    "# creating prefilling arrays\n",
    "ex1 = np.zeros((2,2))\n",
    "ex2 = np.full((2,2),9) # creating a 2*2 array filled with 9\n",
    "ex3 = np.ones((2,2))\n",
    "ex4 = np.eye(2,2) # here only the diagonals are one \n",
    "ex5 = np.random.random((2,2))\n",
    "ex5"
   ]
  },
  {
   "cell_type": "code",
   "execution_count": 27,
   "id": "0a865ec7-3494-472a-bb0b-e0097c477c77",
   "metadata": {
    "tags": []
   },
   "outputs": [
    {
     "data": {
      "text/plain": [
       "array([[12],\n",
       "       [15]])"
      ]
     },
     "execution_count": 27,
     "metadata": {},
     "output_type": "execute_result"
    }
   ],
   "source": [
    "# when slicing an ndarray we create a second reference to the same underlying data\n",
    "a_slice  = r2[0:,1:2]\n",
    "a_slice # when you modify the slice you are actually modifying the actual r2 array"
   ]
  },
  {
   "cell_type": "markdown",
   "id": "d2ea6955-1697-4a21-8224-e08cc63417d1",
   "metadata": {},
   "source": [
    "## Since slice elements have the same memory address as the original array. we must create another copy to prevent this"
   ]
  },
  {
   "cell_type": "code",
   "execution_count": 28,
   "id": "a468e7e8-c674-457c-aa02-c4545a6f4853",
   "metadata": {
    "tags": []
   },
   "outputs": [
    {
     "data": {
      "text/plain": [
       "array([[12],\n",
       "       [15]])"
      ]
     },
     "execution_count": 28,
     "metadata": {},
     "output_type": "execute_result"
    }
   ],
   "source": [
    "a_slice  = np.array(r2[0:,1:2])\n",
    "a_slice"
   ]
  },
  {
   "cell_type": "code",
   "execution_count": 31,
   "id": "c5db2d4e-b547-4cec-a521-0f59e8e61fa8",
   "metadata": {
    "tags": []
   },
   "outputs": [
    {
     "name": "stdout",
     "output_type": "stream",
     "text": [
      "[[14 15 16]]\n"
     ]
    }
   ],
   "source": [
    "#combinations of slices and indexing \n",
    "a_slice2 = r2[1,:] # this creates a rank1 array\n",
    "a_slice3 = r2[1:2,:] # this creates a rank2 array\n",
    "print(a_slice3)\n"
   ]
  },
  {
   "cell_type": "code",
   "execution_count": 32,
   "id": "1faead65-683f-4310-bd4c-f26ede6c77bf",
   "metadata": {
    "tags": []
   },
   "outputs": [
    {
     "data": {
      "text/plain": [
       "(2, 3)"
      ]
     },
     "execution_count": 32,
     "metadata": {},
     "output_type": "execute_result"
    }
   ],
   "source": [
    "r2.shape"
   ]
  },
  {
   "cell_type": "markdown",
   "id": "e951c428-51d3-4b4f-a8c8-9a74ce3f0865",
   "metadata": {},
   "source": [
    "# Conditional Indexing"
   ]
  },
  {
   "cell_type": "code",
   "execution_count": 39,
   "id": "09f1b0a0-a332-4acc-99ea-6c83de0f7fa4",
   "metadata": {
    "tags": []
   },
   "outputs": [
    {
     "name": "stdout",
     "output_type": "stream",
     "text": [
      "[21 22 31 32]\n",
      "[21 22 31 32]\n",
      "[21 22]\n",
      "[12 22 32]\n"
     ]
    }
   ],
   "source": [
    "an_array = np.array([[11,12],[21,22],[31,32]])\n",
    "filter = (an_array>15)\n",
    "print(an_array[filter])\n",
    "# this can be done in a single step \n",
    "print(an_array[an_array>15])\n",
    "print(an_array[(an_array>15)&(an_array<30)]) # getting a range of values \n",
    "print(an_array[(an_array%2==0)])"
   ]
  },
  {
   "cell_type": "markdown",
   "id": "73341431-b4c0-4740-a3e9-60086dfd17b0",
   "metadata": {},
   "source": [
    "## Each ndarray has its own datatype\n",
    "\n",
    "## Basics operations of ndarray\n"
   ]
  },
  {
   "cell_type": "code",
   "execution_count": 46,
   "id": "bc998d67-068d-4d6b-82a3-79a904f2ed34",
   "metadata": {
    "tags": []
   },
   "outputs": [
    {
     "name": "stdout",
     "output_type": "stream",
     "text": [
      "float64\n",
      "int64\n",
      "[11 12 13]\n",
      "[22 24 26]\n",
      "[0 0 0]\n",
      "[121 144 169]\n",
      "[1. 1. 1.]\n",
      "[ 59874.1417152  162754.791419   442413.39200892]\n",
      "[3.31662479 3.46410162 3.60555128]\n"
     ]
    }
   ],
   "source": [
    "# setting datattype of an ndarray\n",
    "print(ex1.dtype)\n",
    "# setting an explicit type \n",
    "ex2 = np.array([11.1,12.5,13.1],dtype=np.int64)\n",
    "print(ex2.dtype)\n",
    "print(ex2)\n",
    "ex3 = np.array([11,12,13])\n",
    "print(np.add(ex2,ex3))\n",
    "print(np.subtract(ex2,ex3))\n",
    "print(np.multiply(ex2,ex3))\n",
    "print(np.divide(ex2,ex3))\n",
    "print(np.exp(ex2))\n",
    "print(np.sqrt(ex3))"
   ]
  },
  {
   "cell_type": "markdown",
   "id": "487c7e02-3108-425a-a1e4-0d0383f85504",
   "metadata": {},
   "source": [
    "## Basic statistical operations:"
   ]
  },
  {
   "cell_type": "code",
   "execution_count": 65,
   "id": "bdff83ec-8949-4ce1-b8da-749aa6065a4a",
   "metadata": {
    "tags": []
   },
   "outputs": [
    {
     "name": "stdout",
     "output_type": "stream",
     "text": [
      "-4.349511090454893\n",
      "Mean for each row [-5.43605457 -3.26296761]\n",
      "Mean for each column [-13.3890901   -1.05491188   4.15122443 -11.34256326  -0.11221464]\n",
      "Sum of all numbers [-26.77818019  -2.10982376   8.30244885 -22.68512652  -0.22442929]\n",
      "median values for each row [-6.34573043 -4.4248556 ]\n",
      "[ 0.43037747 -0.96351231  0.39938984  0.72410592  0.49999642 -1.82528024\n",
      "  0.17203456 -0.35613975 -0.91035399  1.5378878 ]\n",
      "[-1.82528024 -0.96351231 -0.91035399 -0.35613975  0.17203456  0.39938984\n",
      "  0.43037747  0.49999642  0.72410592  1.5378878 ]\n",
      "[1 2 3 4 5 6]\n"
     ]
    }
   ],
   "source": [
    "arr = 10*np.random.randn(2,5)\n",
    "print(arr.mean())\n",
    "print(f\"Mean for each row {arr.mean(axis=1)}\")\n",
    "print(f\"Mean for each column {arr.mean(axis=0)}\")\n",
    "print(f\"Sum of all numbers {arr.sum(axis=0)}\")\n",
    "print(f\"median values for each row {np.median(arr,axis=1)}\")\n",
    "unsorted = np.random.randn(10)\n",
    "print(unsorted)\n",
    "sorted_arr = np.array(unsorted)\n",
    "sorted_arr.sort() # this is an inplace operation\n",
    "print(sorted_arr)\n",
    "arr1 = np.array([1,1,1,2,3,4,1,2,4,5,6])\n",
    "print(np.unique(arr1))"
   ]
  },
  {
   "cell_type": "markdown",
   "id": "2755cabb-89db-4f7a-836e-b05b944ebac7",
   "metadata": {},
   "source": [
    "## Set operations on a ndarray"
   ]
  },
  {
   "cell_type": "code",
   "execution_count": 71,
   "id": "b97eb4a4-5e6b-490d-a57e-aeecda569513",
   "metadata": {
    "tags": []
   },
   "outputs": [
    {
     "name": "stdout",
     "output_type": "stream",
     "text": [
      "['desk' 'bulb' 'chair'] ['lamp' 'bulb' 'chair']\n",
      "['bulb' 'chair']\n",
      "['bulb' 'chair' 'desk' 'lamp']\n",
      "['desk']\n",
      "[False  True  True]\n"
     ]
    }
   ],
   "source": [
    "s1 = np.array(['desk','bulb','chair'])\n",
    "s2 = np.array(['lamp','bulb','chair'])\n",
    "print(s1,s2)\n",
    "print(np.intersect1d(s1,s2)) # intersect expects 1-D arrays\n",
    "print(np.union1d(s1,s2)) \n",
    "print(np.setdiff1d(s1,s2)) # elements that are in s1 but not in s2\n",
    "print(np.in1d(s1,s2)) # which element of s1 is also in s2, output is an array of booleans. "
   ]
  },
  {
   "cell_type": "markdown",
   "id": "694a864d-0634-4332-b540-efb9fa1451c0",
   "metadata": {},
   "source": [
    "## Broadcasting\n",
    "\n",
    "* It aims to solve mismatching in array sizes. \n",
    "* When operating on two-arrays, Numpy compares their shapes element wise. it starts with the trailing dimensions, and works its way forward. \n",
    "* The two arrays are compatible when they are equal or one of them is 1. "
   ]
  },
  {
   "cell_type": "code",
   "execution_count": 81,
   "id": "a589db12-ff13-462f-a73a-339233b3e652",
   "metadata": {
    "tags": []
   },
   "outputs": [
    {
     "name": "stdout",
     "output_type": "stream",
     "text": [
      "The result by adding values to rows\n",
      " [[1. 0. 2.]\n",
      " [1. 0. 2.]\n",
      " [1. 0. 2.]\n",
      " [1. 0. 2.]]\n",
      "The result by adding values to columns\n",
      " [[1. 1. 1.]\n",
      " [2. 2. 2.]\n",
      " [3. 3. 3.]\n",
      " [4. 4. 4.]]\n"
     ]
    }
   ],
   "source": [
    "arr2 = np.zeros((4,3))\n",
    "add_rows = np.array([1,0,2])\n",
    "y = arr2+add_rows\n",
    "add_cols = np.array([[1,2,3,4]])\n",
    "add_cols = add_cols.T\n",
    "y1 = arr2+add_cols\n",
    "print(f\"The result by adding values to rows\\n {y}\")\n",
    "print(f\"The result by adding values to columns\\n {y1}\")"
   ]
  },
  {
   "cell_type": "code",
   "execution_count": null,
   "id": "ce6cfc67-373b-47fb-9b1c-1dd20c199e25",
   "metadata": {},
   "outputs": [],
   "source": []
  }
 ],
 "metadata": {
  "kernelspec": {
   "display_name": "Python 3 (ipykernel)",
   "language": "python",
   "name": "python3"
  },
  "language_info": {
   "codemirror_mode": {
    "name": "ipython",
    "version": 3
   },
   "file_extension": ".py",
   "mimetype": "text/x-python",
   "name": "python",
   "nbconvert_exporter": "python",
   "pygments_lexer": "ipython3",
   "version": "3.11.4"
  }
 },
 "nbformat": 4,
 "nbformat_minor": 5
}
